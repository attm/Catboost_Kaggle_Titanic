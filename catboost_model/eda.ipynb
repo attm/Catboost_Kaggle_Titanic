{
 "cells": [
  {
   "cell_type": "code",
   "execution_count": 1,
   "metadata": {
    "tags": []
   },
   "outputs": [
    {
     "output_type": "stream",
     "name": "stdout",
     "text": "Unnamed: 0  Survived  Pclass  Sex   Age  SibSp  Parch     Fare Cabin  \\\n0             0         0       3    1  22.0      1      0   7.2500   NaN   \n1             1         1       1    0  38.0      1      0  71.2833   C85   \n2             2         1       3    0  26.0      0      0   7.9250   NaN   \n3             3         1       1    0  35.0      1      0  53.1000  C123   \n4             4         0       3    1  35.0      0      0   8.0500   NaN   \n..          ...       ...     ...  ...   ...    ...    ...      ...   ...   \n886         886         0       2    1  27.0      0      0  13.0000   NaN   \n887         887         1       1    0  19.0      0      0  30.0000   B42   \n888         888         0       3    0   NaN      1      2  23.4500   NaN   \n889         889         1       1    1  26.0      0      0  30.0000  C148   \n890         890         0       3    1  32.0      0      0   7.7500   NaN   \n\n     Embarked  \n0           2  \n1           0  \n2           2  \n3           2  \n4           2  \n..        ...  \n886         2  \n887         2  \n888         2  \n889         0  \n890         1  \n\n[891 rows x 10 columns]\n"
    }
   ],
   "source": [
    "import seaborn as sns \n",
    "import pandas as pd \n",
    "import os\n",
    "\n",
    "cwd = os.pardir\n",
    "train = pd.read_csv(os.path.join(cwd, \"dataset\", \"train_processed.csv\"))\n",
    "print(train)"
   ]
  },
  {
   "cell_type": "code",
   "execution_count": null,
   "metadata": {},
   "outputs": [],
   "source": []
  }
 ],
 "metadata": {
  "language_info": {
   "codemirror_mode": {
    "name": "ipython",
    "version": 3
   },
   "file_extension": ".py",
   "mimetype": "text/x-python",
   "name": "python",
   "nbconvert_exporter": "python",
   "pygments_lexer": "ipython3",
   "version": "3.6.9-final"
  },
  "orig_nbformat": 2,
  "kernelspec": {
   "name": "python36964bit09bce73b03d1439f9e4bfe6bdba9a9a2",
   "display_name": "Python 3.6.9 64-bit"
  }
 },
 "nbformat": 4,
 "nbformat_minor": 2
}